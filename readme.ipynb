{
 "cells": [
  {
   "cell_type": "code",
   "execution_count": 3,
   "metadata": {},
   "outputs": [
    {
     "data": {
      "image/png": "[encoded data removed]",
      "text/plain": [
       "<PIL.PngImagePlugin.PngImageFile image mode=P size=1633x367>"
      ]
     },
     "metadata": {},
     "output_type": "display_data"
    },
    {
     "data": {
      "text/markdown": [
       "<div align='center'><h2>Benvenuto nel mio Jupyter Notebook!</h2><p>In questa repository troverai tutti i final tests da me svolti durante il corso di Boolean S.r.l</p></div>"
      ],
      "text/plain": [
       "<IPython.core.display.Markdown object>"
      ]
     },
     "metadata": {},
     "output_type": "display_data"
    }
   ],
   "source": [
    "from IPython.display import display, Markdown\n",
    "import requests\n",
    "from io import BytesIO\n",
    "from PIL import Image as PILImage\n",
    "\n",
    "# Recupera l'immagine dal link\n",
    "image_url = 'https://hiringplatform.boolean.careers/images/logo.png'\n",
    "response = requests.get(image_url)\n",
    "image = PILImage.open(BytesIO(response.content))\n",
    "\n",
    "# Stampa l'immagine\n",
    "display(image)\n",
    "\n",
    "from IPython.display import display, Markdown\n",
    "\n",
    "# Crea la scritta\n",
    "text = \"Benvenuto nel mio Jupyter Notebook!\"\n",
    "description = \"In questa repository troverai tutti i final tests da me svolti durante il corso di Boolean S.r.l\"\n",
    "\n",
    "# Crea il Markdown con la scritta centrata\n",
    "markdown = f\"<div align='center'><h2>{text}</h2><p>{description}</p></div>\"\n",
    "\n",
    "# Visualizza il Markdown\n",
    "display(Markdown(markdown))"
   ]
  },
  {
   "cell_type": "code",
   "execution_count": 2,
   "metadata": {},
   "outputs": [
    {
     "data": {
      "text/html": [
       "<div style='display: flex; justify-content: center; flex-wrap: wrap;'>\n",
       "        <div style='text-align: center; margin: 15px;'>\n",
       "            <a href='https://github.com/dangelodavide/Boolean-Final-Tests/tree/main/Module%201%20-%20Analytics' target='_blank'>\n",
       "                <img src='https://cdn.icon-icons.com/icons2/2963/PNG/512/macos_big_sur_folder_icon_186046.png' width='100' height='100'>\n",
       "            </a>\n",
       "            <p><a href='https://github.com/dangelodavide/Boolean-Final-Tests/tree/main/Module%201%20-%20Analytics' target='_blank'>Modulo 1 Analysis</a></p>\n",
       "        </div>\n",
       "    \n",
       "        <div style='text-align: center; margin: 15px;'>\n",
       "            <a href='https://github.com/dangelodavide/Boolean-Final-Tests/tree/main/Module%202%20-%20SQL' target='_blank'>\n",
       "                <img src='https://cdn.icon-icons.com/icons2/2963/PNG/512/macos_big_sur_folder_icon_186046.png' width='100' height='100'>\n",
       "            </a>\n",
       "            <p><a href='https://github.com/dangelodavide/Boolean-Final-Tests/tree/main/Module%202%20-%20SQL' target='_blank'>Modulo 2 SQL</a></p>\n",
       "        </div>\n",
       "    \n",
       "        <div style='text-align: center; margin: 15px;'>\n",
       "            <a href='https://www.example.com/link3' target='_blank'>\n",
       "                <img src='https://cdn.icon-icons.com/icons2/2963/PNG/512/macos_big_sur_folder_icon_186046.png' width='100' height='100'>\n",
       "            </a>\n",
       "            <p><a href='https://www.example.com/link3' target='_blank'>Modulo 3 Python</a></p>\n",
       "        </div>\n",
       "    \n",
       "        <div style='text-align: center; margin: 15px;'>\n",
       "            <a href='https://www.example.com/link4' target='_blank'>\n",
       "                <img src='https://cdn.icon-icons.com/icons2/2963/PNG/512/macos_big_sur_folder_icon_186046.png' width='100' height='100'>\n",
       "            </a>\n",
       "            <p><a href='https://www.example.com/link4' target='_blank'>Modulo 4</a></p>\n",
       "        </div>\n",
       "    \n",
       "        <div style='text-align: center; margin: 15px;'>\n",
       "            <a href='https://www.example.com/link5' target='_blank'>\n",
       "                <img src='https://cdn.icon-icons.com/icons2/2963/PNG/512/macos_big_sur_folder_icon_186046.png' width='100' height='100'>\n",
       "            </a>\n",
       "            <p><a href='https://www.example.com/link5' target='_blank'>Modulo 5</a></p>\n",
       "        </div>\n",
       "    \n",
       "        <div style='text-align: center; margin: 15px;'>\n",
       "            <a href='https://www.example.com/link6' target='_blank'>\n",
       "                <img src='https://cdn.icon-icons.com/icons2/2963/PNG/512/macos_big_sur_folder_icon_186046.png' width='100' height='100'>\n",
       "            </a>\n",
       "            <p><a href='https://www.example.com/link6' target='_blank'>Modulo 6</a></p>\n",
       "        </div>\n",
       "    </div>"
      ],
      "text/plain": [
       "<IPython.core.display.HTML object>"
      ]
     },
     "metadata": {},
     "output_type": "display_data"
    }
   ],
   "source": [
    "from IPython.display import display, HTML\n",
    "\n",
    "# Definisci l'URL dell'immagine\n",
    "image_url = \"https://cdn.icon-icons.com/icons2/2963/PNG/512/macos_big_sur_folder_icon_186046.png\"\n",
    "\n",
    "# Definisci i titoli per le immagini\n",
    "titles = [\"Modulo 1 Analysis\", \"Modulo 2 SQL\", \"Modulo 3 Python\", \"Modulo 4\", \"Modulo 5\", \"Modulo 6\"]\n",
    "\n",
    "# Definisci gli URL dei link per le immagini\n",
    "links = [\n",
    "    \"https://github.com/dangelodavide/Boolean-Final-Tests/tree/main/Module%201%20-%20Analytics\",\n",
    "    \"https://github.com/dangelodavide/Boolean-Final-Tests/tree/main/Module%202%20-%20SQL\",\n",
    "    \"https://www.example.com/link3\",\n",
    "    \"https://www.example.com/link4\",\n",
    "    \"https://www.example.com/link5\",\n",
    "    \"https://www.example.com/link6\"\n",
    "]\n",
    "\n",
    "# Creazione del markup HTML per visualizzare le immagini, i titoli e i link\n",
    "html_content = \"<div style='display: flex; justify-content: center; flex-wrap: wrap;'>\"\n",
    "for i in range(6):\n",
    "    html_content += f\"\"\"\n",
    "        <div style='text-align: center; margin: 15px;'>\n",
    "            <a href='{links[i]}' target='_blank'>\n",
    "                <img src='{image_url}' width='100' height='100'>\n",
    "            </a>\n",
    "            <p><a href='{links[i]}' target='_blank'>{titles[i]}</a></p>\n",
    "        </div>\n",
    "    \"\"\"\n",
    "\n",
    "html_content += \"</div>\"\n",
    "\n",
    "# Visualizza il markup HTML\n",
    "display(HTML(html_content))\n"
   ]
  }
 ],
 "metadata": {
  "kernelspec": {
   "display_name": "Python 3",
   "language": "python",
   "name": "python3"
  },
  "language_info": {
   "codemirror_mode": {
    "name": "ipython",
    "version": 3
   },
   "file_extension": ".py",
   "mimetype": "text/x-python",
   "name": "python",
   "nbconvert_exporter": "python",
   "pygments_lexer": "ipython3",
   "version": "3.11.1"
  },
  "orig_nbformat": 4
 },
 "nbformat": 4,
 "nbformat_minor": 2
}
